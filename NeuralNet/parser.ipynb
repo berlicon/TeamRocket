{
 "cells": [
  {
   "cell_type": "code",
   "execution_count": 1,
   "metadata": {},
   "outputs": [],
   "source": [
    "import json\n",
    "import pandas as pd"
   ]
  },
  {
   "cell_type": "markdown",
   "metadata": {},
   "source": [
    "## Конвертация списка литературы"
   ]
  },
  {
   "cell_type": "code",
   "execution_count": 2,
   "metadata": {},
   "outputs": [],
   "source": [
    "df  = pd.read_excel(\"data/Список_изданий_в фрагменте.xlsx\")\n",
    "cols = list(df.columns)\n",
    "df = df.drop([cols[0], cols[4], cols[5], cols[6]], axis=1)\n",
    "df = df.rename(columns={cols[1]: \"long_name\", cols[2]: \"short_name\", cols[3] : \"author\", cols[-1] : \"organization\"})"
   ]
  },
  {
   "cell_type": "code",
   "execution_count": 3,
   "metadata": {},
   "outputs": [
    {
     "data": {
      "text/html": [
       "<div>\n",
       "<style scoped>\n",
       "    .dataframe tbody tr th:only-of-type {\n",
       "        vertical-align: middle;\n",
       "    }\n",
       "\n",
       "    .dataframe tbody tr th {\n",
       "        vertical-align: top;\n",
       "    }\n",
       "\n",
       "    .dataframe thead th {\n",
       "        text-align: right;\n",
       "    }\n",
       "</style>\n",
       "<table border=\"1\" class=\"dataframe\">\n",
       "  <thead>\n",
       "    <tr style=\"text-align: right;\">\n",
       "      <th></th>\n",
       "      <th>long_name</th>\n",
       "      <th>short_name</th>\n",
       "      <th>author</th>\n",
       "      <th>organization</th>\n",
       "    </tr>\n",
       "  </thead>\n",
       "  <tbody>\n",
       "    <tr>\n",
       "      <th>0</th>\n",
       "      <td>Жерихина, Елена Игоревна.   Этикет петербургск...</td>\n",
       "      <td>Этикет петербургской прогулки</td>\n",
       "      <td>Жерихина Е.И.</td>\n",
       "      <td>NaN</td>\n",
       "    </tr>\n",
       "    <tr>\n",
       "      <th>1</th>\n",
       "      <td>\"Щукин. Биография коллекции\". выставка (2019; ...</td>\n",
       "      <td>Щукин. Биография коллекции</td>\n",
       "      <td>NaN</td>\n",
       "      <td>ГМИИ им. А.С. Пушкина (Москва): 19 июня - 15 с...</td>\n",
       "    </tr>\n",
       "    <tr>\n",
       "      <th>2</th>\n",
       "      <td>Государственный музей изобразительных искусств...</td>\n",
       "      <td>Щукин. Биография коллекции</td>\n",
       "      <td>NaN</td>\n",
       "      <td>Изд. подготовлено к выставке \"Щукин. Биография...</td>\n",
       "    </tr>\n",
       "    <tr>\n",
       "      <th>3</th>\n",
       "      <td>Жерихина, Елена Игоревна.   Петербурженка / Е....</td>\n",
       "      <td>Петербурженка</td>\n",
       "      <td>Жерихина Е.И.</td>\n",
       "      <td>NaN</td>\n",
       "    </tr>\n",
       "    <tr>\n",
       "      <th>4</th>\n",
       "      <td>Барнс, Джулиан.   Открой глаза / Д. Барнс ; пе...</td>\n",
       "      <td>Открой глаза</td>\n",
       "      <td>Барнс Д.</td>\n",
       "      <td>NaN</td>\n",
       "    </tr>\n",
       "  </tbody>\n",
       "</table>\n",
       "</div>"
      ],
      "text/plain": [
       "                                           long_name  \\\n",
       "0  Жерихина, Елена Игоревна.   Этикет петербургск...   \n",
       "1  \"Щукин. Биография коллекции\". выставка (2019; ...   \n",
       "2  Государственный музей изобразительных искусств...   \n",
       "3  Жерихина, Елена Игоревна.   Петербурженка / Е....   \n",
       "4  Барнс, Джулиан.   Открой глаза / Д. Барнс ; пе...   \n",
       "\n",
       "                      short_name         author  \\\n",
       "0  Этикет петербургской прогулки  Жерихина Е.И.   \n",
       "1     Щукин. Биография коллекции            NaN   \n",
       "2     Щукин. Биография коллекции            NaN   \n",
       "3                  Петербурженка  Жерихина Е.И.   \n",
       "4                   Открой глаза       Барнс Д.   \n",
       "\n",
       "                                        organization  \n",
       "0                                                NaN  \n",
       "1  ГМИИ им. А.С. Пушкина (Москва): 19 июня - 15 с...  \n",
       "2  Изд. подготовлено к выставке \"Щукин. Биография...  \n",
       "3                                                NaN  \n",
       "4                                                NaN  "
      ]
     },
     "execution_count": 3,
     "metadata": {},
     "output_type": "execute_result"
    }
   ],
   "source": [
    "df.head()"
   ]
  },
  {
   "cell_type": "code",
   "execution_count": 4,
   "metadata": {},
   "outputs": [],
   "source": [
    "df.to_csv(\"data/books.csv\", sep=\";\", index=False)"
   ]
  },
  {
   "cell_type": "markdown",
   "metadata": {},
   "source": [
    "# JSON\n",
    "------------"
   ]
  },
  {
   "cell_type": "code",
   "execution_count": 14,
   "metadata": {},
   "outputs": [],
   "source": [
    "root_link = \"https://pushkinmuseum.art/\""
   ]
  },
  {
   "cell_type": "markdown",
   "metadata": {},
   "source": [
    "## buildings"
   ]
  },
  {
   "cell_type": "code",
   "execution_count": 7,
   "metadata": {},
   "outputs": [],
   "source": [
    "with open(\"data/buildings.json\", \"r\", encoding=\"utf-8\") as building_file:\n",
    "    buildings = json.load(building_file)"
   ]
  },
  {
   "cell_type": "code",
   "execution_count": null,
   "metadata": {},
   "outputs": [],
   "source": [
    "for bldng in buildings.keys():\n",
    "    b_name = buildings[bldng][\"name\"][\"ru\"]\n",
    "    b_link = root_link + buildings[bldng][\"path\"]\n",
    "    if buildings[bldng][\"closed\"] == '0':\n",
    "        print(len(list(buildings[bldng].keys())))\n",
    "#         schedule = buildings[bldng][\"schedule\"]\n",
    "#         if \"regulars\" in list(schedule.keys()):\n",
    "#             print(schedule[\"regulars\"])"
   ]
  },
  {
   "cell_type": "code",
   "execution_count": 66,
   "metadata": {},
   "outputs": [
    {
     "name": "stdout",
     "output_type": "stream",
     "text": [
      "----------\n",
      "Главное здание\n",
      "----------\n",
      "<class 'dict'>\n",
      "Первый этаж  : \n",
      "\t Искусство Древнего Египта\n",
      "\t Искусство Древнего Ближнего Востока\n",
      "\t Древняя Троя и раскопки Г. Шлимана\n",
      "\t Античное искусство. Кипр. Древняя Греция. Этрурия. Древний Рим\n",
      "\t Искусство Северного Причерноморья\n",
      "\t Эллинистический и римский Египет, коптское искусство\n",
      "\t Византийское искусство. Искусство Италии XIII-XVI веков\n",
      "\t Искусство Германии и Нидерландов XV—XVI веков\n",
      "\t Искусство Фландрии XVII века\n",
      "\t Рембрандт и его школа\n",
      "\t Искусство Голландии XVII века\n",
      "\t Греческий дворик\n",
      "\t Итальянский дворик\n",
      "Второй этаж  : \n",
      "\t Искусство Древней Греции\n",
      "\t Искусство Эгейского мира\n",
      "\t Итальянское искусство XVII – XVIII веков\n",
      "\t Испанское и итальянское искусство XVII века\n",
      "\t Выставочный зал\n",
      "\t Выставочный зал\n",
      "\t Искусство Франции XVII века\n",
      "\t Искусство Франции первой половины XVIII века\n",
      "\t Искусство Франции второй половины XVIII – первой трети XIX века\n",
      "\t Греческое искусство поздней классики и эллинизма\n",
      "\t Искусство Древней Италии и Древнего Рима\n",
      "\t Европейское искусство Средних веков\n",
      "\t Нидерландская и немецкая скульптура XV-XVI веков\n",
      "\t Итальянская скульптура XV века\n",
      "\t Скульптура Микеланджело\n",
      "\t Белый зал\n",
      "\n",
      "----------\n",
      "Галерея искусства стран Европы и Америки XIX–XX веков\n",
      "----------\n",
      "<class 'dict'>\n",
      "Второй этаж  : \n",
      "\t Романтизм\n",
      "\t Барбизонская школа. Реализм\n",
      "\t Эдуард Мане. Эдгар Дега\n",
      "\t Париж\n",
      "\t Символизм\n",
      "\t Клод Моне\n",
      "\t Пьер Огюст Ренуар. Огюст Роден\n",
      "\t Пейзаж\n",
      "\t Поль Сезанн\n",
      "\t Международный салон\n",
      "Третий этаж  : \n",
      "\t Винсент Ван Гог\n",
      "\t Поль Гоген\n",
      "\t Анри Матисс\n",
      "\t Группа «Наби»\n",
      "\t Фовизм\n",
      "\t Ранний Пикассо\n",
      "\t Пабло Пикассо. Андре Дерен\n",
      "\t Искусство ХХ века\n",
      "\t Фернан Леже\n",
      "\n",
      "----------\n",
      "Отдел личных коллекций\n",
      "----------\n",
      "<class 'str'>\n"
     ]
    },
    {
     "ename": "AttributeError",
     "evalue": "'str' object has no attribute 'keys'",
     "output_type": "error",
     "traceback": [
      "\u001b[1;31m---------------------------------------------------------------------------\u001b[0m",
      "\u001b[1;31mAttributeError\u001b[0m                            Traceback (most recent call last)",
      "\u001b[1;32m<ipython-input-66-aa3fbdb3ce25>\u001b[0m in \u001b[0;36m<module>\u001b[1;34m\u001b[0m\n\u001b[0;32m      5\u001b[0m     \u001b[0mbldng\u001b[0m \u001b[1;33m=\u001b[0m  \u001b[0mbuildings\u001b[0m\u001b[1;33m[\u001b[0m\u001b[0mbl\u001b[0m\u001b[1;33m]\u001b[0m\u001b[1;33m\u001b[0m\u001b[1;33m\u001b[0m\u001b[0m\n\u001b[0;32m      6\u001b[0m     \u001b[0mprint\u001b[0m\u001b[1;33m(\u001b[0m\u001b[0mtype\u001b[0m\u001b[1;33m(\u001b[0m\u001b[0mbldng\u001b[0m\u001b[1;33m[\u001b[0m\u001b[1;34m\"floors\"\u001b[0m\u001b[1;33m]\u001b[0m\u001b[1;33m)\u001b[0m\u001b[1;33m)\u001b[0m\u001b[1;33m\u001b[0m\u001b[1;33m\u001b[0m\u001b[0m\n\u001b[1;32m----> 7\u001b[1;33m     \u001b[1;32mfor\u001b[0m \u001b[0mfl\u001b[0m \u001b[1;32min\u001b[0m \u001b[0mbldng\u001b[0m\u001b[1;33m[\u001b[0m\u001b[1;34m\"floors\"\u001b[0m\u001b[1;33m]\u001b[0m\u001b[1;33m.\u001b[0m\u001b[0mkeys\u001b[0m\u001b[1;33m(\u001b[0m\u001b[1;33m)\u001b[0m\u001b[1;33m:\u001b[0m\u001b[1;33m\u001b[0m\u001b[1;33m\u001b[0m\u001b[0m\n\u001b[0m\u001b[0;32m      8\u001b[0m         \u001b[0mflour\u001b[0m \u001b[1;33m=\u001b[0m \u001b[0mbldng\u001b[0m\u001b[1;33m[\u001b[0m\u001b[1;34m\"floors\"\u001b[0m\u001b[1;33m]\u001b[0m\u001b[1;33m[\u001b[0m\u001b[0mfl\u001b[0m\u001b[1;33m]\u001b[0m\u001b[1;33m\u001b[0m\u001b[1;33m\u001b[0m\u001b[0m\n\u001b[0;32m      9\u001b[0m         \u001b[0mprint\u001b[0m\u001b[1;33m(\u001b[0m\u001b[0mflour\u001b[0m\u001b[1;33m[\u001b[0m\u001b[1;34m\"name\"\u001b[0m\u001b[1;33m]\u001b[0m\u001b[1;33m[\u001b[0m\u001b[1;34m\"ru\"\u001b[0m\u001b[1;33m]\u001b[0m\u001b[1;33m,\u001b[0m \u001b[1;34m\" : \"\u001b[0m\u001b[1;33m)\u001b[0m\u001b[1;33m\u001b[0m\u001b[1;33m\u001b[0m\u001b[0m\n",
      "\u001b[1;31mAttributeError\u001b[0m: 'str' object has no attribute 'keys'"
     ]
    }
   ],
   "source": [
    "for bl in buildings.keys():\n",
    "    print('-' * 10)\n",
    "    print(buildings[bl][\"name\"][\"ru\"])\n",
    "    print('-' * 10)\n",
    "    bldng =  buildings[bl]\n",
    "    type(bldng[\"floors\"])\n",
    "    for fl in bldng[\"floors\"].keys():\n",
    "        flour = bldng[\"floors\"][fl]\n",
    "        print(flour[\"name\"][\"ru\"], \" : \")\n",
    "        for hl in flour[\"halls\"].keys():\n",
    "            hall = flour[\"halls\"][hl]\n",
    "            print('\\t', hall[\"name\"][\"ru\"])\n",
    "    print()"
   ]
  },
  {
   "cell_type": "markdown",
   "metadata": {},
   "source": [
    "## objects"
   ]
  },
  {
   "cell_type": "code",
   "execution_count": 30,
   "metadata": {},
   "outputs": [],
   "source": [
    "with open(\"data/objects.json\", \"r\", encoding=\"utf-8\") as object_file:\n",
    "    objects = json.load(object_file)"
   ]
  },
  {
   "cell_type": "code",
   "execution_count": 34,
   "metadata": {},
   "outputs": [
    {
     "data": {
      "text/plain": [
       "dict_keys(['path', 'm_parent_id', 'year', 'get_year', 'inv_num', 'type', 'country', 'period', 'paint_school', 'graphics_type', 'department', 'masterpiece', 'show_in_hall', 'show_in_collection', 'name', 'namecom', 'size', 'text', 'annotation', 'litra', 'restor', 'audioguide', 'videoguide', 'link', 'linktext', 'producein', 'material', 'from', 'matvos', 'sizevos', 'prodcast', 'searcha', 'seakeys', 'hall', 'building', 'gallery', 'authors', 'collectors', 'cast', 'shop', 'sortID'])"
      ]
     },
     "execution_count": 34,
     "metadata": {},
     "output_type": "execute_result"
    }
   ],
   "source": [
    "objects[\"3666\"].keys()"
   ]
  },
  {
   "cell_type": "code",
   "execution_count": 36,
   "metadata": {},
   "outputs": [
    {
     "data": {
      "text/plain": [
       "'data/fonds/ancient_east/1_1_a/1_1_a_4679/index.php'"
      ]
     },
     "execution_count": 36,
     "metadata": {},
     "output_type": "execute_result"
    }
   ],
   "source": [
    "objects[\"3666\"][\"path\"]"
   ]
  },
  {
   "cell_type": "code",
   "execution_count": 35,
   "metadata": {},
   "outputs": [
    {
     "data": {
      "text/plain": [
       "'3461'"
      ]
     },
     "execution_count": 35,
     "metadata": {},
     "output_type": "execute_result"
    }
   ],
   "source": [
    "objects[\"3666\"][\"m_parent_id\"]"
   ]
  },
  {
   "cell_type": "code",
   "execution_count": 38,
   "metadata": {},
   "outputs": [
    {
     "data": {
      "text/plain": [
       "'Археология'"
      ]
     },
     "execution_count": 38,
     "metadata": {},
     "output_type": "execute_result"
    }
   ],
   "source": [
    "objects[\"3666\"][\"type\"][\"ru\"] "
   ]
  },
  {
   "cell_type": "code",
   "execution_count": 41,
   "metadata": {},
   "outputs": [
    {
     "data": {
      "text/plain": [
       "'Додинастический период, IV тыс. до н. э.'"
      ]
     },
     "execution_count": 41,
     "metadata": {},
     "output_type": "execute_result"
    }
   ],
   "source": [
    "objects[\"3666\"][\"period\"][\"text\"][\"ru\"]"
   ]
  },
  {
   "cell_type": "markdown",
   "metadata": {},
   "source": [
    "## events"
   ]
  },
  {
   "cell_type": "code",
   "execution_count": 42,
   "metadata": {},
   "outputs": [],
   "source": [
    "with open(\"data/events.json\", \"r\", encoding=\"utf-8\") as event_file:\n",
    "    events = json.load(event_file)"
   ]
  },
  {
   "cell_type": "code",
   "execution_count": 43,
   "metadata": {},
   "outputs": [
    {
     "data": {
      "text/plain": [
       "dict_keys(['12487', '12511', '11420', '12688', '12692', '12159', '12704', '12216', '12252', '12683', '12773', '12186', '12295', '12705', '12320', '12245', '12330', '12202', '12300', '12718', '12777', '12149', '12684', '12775', '12217', '12251', '12187', '12296', '12246', '12322', '12331', '12720', '12203', '12301', '12719', '12218', '12253', '12188', '12297', '12247', '12323', '12332', '12205', '12302', '12722', '12721', '12160', '12339', '12219', '12220'])"
      ]
     },
     "execution_count": 43,
     "metadata": {},
     "output_type": "execute_result"
    }
   ],
   "source": [
    "events.keys()"
   ]
  },
  {
   "cell_type": "code",
   "execution_count": 51,
   "metadata": {},
   "outputs": [
    {
     "data": {
      "text/plain": [
       "{'path': 'events/archive/2020/others/14_02/index.php',\n",
       " 'm_parent_id': '12345',\n",
       " 'img_header': {'mob': '', 'pc': ''},\n",
       " 'dateBegin': '2020-02-14 00:00:00',\n",
       " 'dateEnd': '0000-00-00 00:00:00',\n",
       " 'type': {'ru': 'Лекция', 'en': 'Lection'},\n",
       " 'age': '',\n",
       " 'ticket': '',\n",
       " 'name': {'ru': '«Тень Гойи в современном искусстве». Лекция историка искусств Хуана Мануэля Бонета',\n",
       "  'en': '«Тень Гойи в современном искусстве». Лекция историка искусств Хуана Мануэля Бонета'},\n",
       " 'headimg': {'ru': '', 'en': ''},\n",
       " 'text': {'ru': '<p>Вход свободный, по предварительной регистрации на сайте музея</p><p>&nbsp;</p><p>Хуан Мануэль Бонет&nbsp;(Испания) &ndash; литературный и художественный критик, куратор выставок и один из самых авторитетных экспертов по современной живописи, автор фундаментального труда &laquo;Словарь испанского авангарда (1907&ndash;1936)&raquo;. Был директором Валенсийского института современного искусства (IVAM) и Национального музея &laquo;Центр искусств королевы Софии&raquo; (Мадрид).</p><p>На лекции в ГМИИ имени А.С. Пушкина Хуан Мануэль Бонет проанализирует &laquo;тень Гойи&raquo; в современном испанском искусстве: в работах таких художников как Игнасио Сулоага, Пабло Пикассо, Хосе Гутьеррес Солана, Пабло Серрано, Антонио Саура, Маноло Мильярес, Рафаэль Каногар, Эдуардо Арройо и многих других, а также в фильмах Луиса Бунюэля и Карлоса Сауры, литературных произведениях Хосе Ортеги-и-Гассета, Еухенио д&acute;Орса, Рамона Гомеса де ла Серны. Также лектор расскажет о влиянии Гойи на творчество Эжена Делакруа, Эдуарда Мане, Одилона Редона, Бруно Шульца, Мануэля Окампо, Анри Картье-Брессона и Элиотта Эрвитта. Работы Франсиско Гойи оказали огромное влияние на мировое искусство; эта лекция охватит всю эволюцию живописи XIX&ndash;XX&nbsp;веков, от романтизма к абстракции.</p><p>&nbsp;</p><p>Организовано Институтом Сервантеса в Москве при участии ГМИИ им. А.С. Пушкина и Посольства Испании в России.</p>',\n",
       "  'en': '<p>Вход свободный, по предварительной регистрации на сайте музея</p><p>&nbsp;</p><p>Хуан Мануэль Бонет&nbsp;(Испания) &ndash; литературный и художественный критик, куратор выставок и один из самых авторитетных экспертов по современной живописи, автор фундаментального труда &laquo;Словарь испанского авангарда (1907&ndash;1936)&raquo;. Был директором Валенсийского института современного искусства (IVAM) и Национального музея &laquo;Центр искусств королевы Софии&raquo; (Мадрид).</p><p>На лекции в ГМИИ имени А.С. Пушкина Хуан Мануэль Бонет проанализирует &laquo;тень Гойи&raquo; в современном испанском искусстве: в работах таких художников как Игнасио Сулоага, Пабло Пикассо, Хосе Гутьеррес Солана, Пабло Серрано, Антонио Саура, Маноло Мильярес, Рафаэль Каногар, Эдуардо Арройо и многих других, а также в фильмах Луиса Бунюэля и Карлоса Сауры, литературных произведениях Хосе Ортеги-и-Гассета, Еухенио д&acute;Орса, Рамона Гомеса де ла Серны. Также лектор расскажет о влиянии Гойи на творчество Эжена Делакруа, Эдуарда Мане, Одилона Редона, Бруно Шульца, Мануэля Окампо, Анри Картье-Брессона и Элиотта Эрвитта. Работы Франсиско Гойи оказали огромное влияние на мировое искусство; эта лекция охватит всю эволюцию живописи XIX&ndash;XX&nbsp;веков, от романтизма к абстракции.</p><p>&nbsp;</p><p>Организовано Институтом Сервантеса в Москве при участии ГМИИ им. А.С. Пушкина и Посольства Испании в России.</p>'},\n",
       " 'addtext': {'ru': '', 'en': ''},\n",
       " 'date': {'ru': '', 'en': ''},\n",
       " 'halls': {'ru': '', 'en': ''},\n",
       " 'price': {'ru': '', 'en': ''},\n",
       " 'audioguide': {'ru': '', 'en': ''},\n",
       " 'mediaguide': {'ru': '', 'en': ''},\n",
       " 'searcha': {'ru': '', 'en': ''},\n",
       " 'seakeys': {'ru': '', 'en': ''},\n",
       " 'building': {'0': '12536'},\n",
       " 'gallery': '',\n",
       " 'circ_img': {'id01': '/events/archive/2020/others/14_02/12777_mainfoto_01.jpg',\n",
       "  'id02': '/events/archive/2020/others/14_02/12777_mainfoto_02.jpg',\n",
       "  'id03': '/events/archive/2020/others/14_02/12777_mainfoto_03.jpg',\n",
       "  'caption': {'ru': None, 'en': ''}},\n",
       " 'files': '',\n",
       " 'sponsors': '',\n",
       " 'shop': '',\n",
       " 'connect': '',\n",
       " 'ab_event': '',\n",
       " 'within': '',\n",
       " 'mapurl': ''}"
      ]
     },
     "execution_count": 51,
     "metadata": {},
     "output_type": "execute_result"
    }
   ],
   "source": [
    "events[\"12777\"]"
   ]
  },
  {
   "cell_type": "code",
   "execution_count": 46,
   "metadata": {},
   "outputs": [
    {
     "data": {
      "text/plain": [
       "'«Тень Гойи в современном искусстве». Лекция историка искусств Хуана Мануэля Бонета'"
      ]
     },
     "execution_count": 46,
     "metadata": {},
     "output_type": "execute_result"
    }
   ],
   "source": [
    "events[\"12777\"][\"name\"][\"ru\"]"
   ]
  },
  {
   "cell_type": "markdown",
   "metadata": {},
   "source": [
    "## collects"
   ]
  },
  {
   "cell_type": "code",
   "execution_count": 48,
   "metadata": {},
   "outputs": [],
   "source": [
    "with open(\"data/collects.json\", \"r\", encoding=\"utf-8\") as collects_file:\n",
    "    collects = json.load(collects_file)"
   ]
  },
  {
   "cell_type": "code",
   "execution_count": 49,
   "metadata": {},
   "outputs": [
    {
     "data": {
      "text/plain": [
       "dict_keys(['172', '173', '174', '175', '176', '177', '178', '948', '11628', '11604', '11489', '11192', '11194', '11739', '11875'])"
      ]
     },
     "execution_count": 49,
     "metadata": {},
     "output_type": "execute_result"
    }
   ],
   "source": [
    "collects.keys()"
   ]
  },
  {
   "cell_type": "code",
   "execution_count": 50,
   "metadata": {},
   "outputs": [
    {
     "data": {
      "text/plain": [
       "{'path': 'exposition_collection/collections/archeology/index.php',\n",
       " 'img_mob': '/exposition_collection/collections/archeology/177_img_mob.jpg',\n",
       " 'img_pc': '/exposition_collection/collections/archeology/177_img_pc.jpg',\n",
       " 'circ_img': {'id01': '/exposition_collection/collections/archeology/177_circ_img_01.jpg',\n",
       "  'id02': '/exposition_collection/collections/archeology/177_circ_img_02.jpg',\n",
       "  'id03': '/exposition_collection/collections/archeology/177_circ_img_03.jpg'},\n",
       " 'name': {'ru': 'Археология', 'en': 'Archaeology'},\n",
       " 'headimg': {'ru': 'Экспозиция зала «Античное искусство». 2016 год. Фотограф Ольга Мелекесцева',\n",
       "  'en': 'Экспозиция зала «Античное искусство». 2016 год. Фотограф Ольга Мелекесцева'},\n",
       " 'text': {'ru': '<p>Искусство Древнего мира было представлено в Музее с момента его открытия с исключительной полнотой. Основу экспозиции Египетского зала составляла превосходная коллекция подлинников, собранная В.С. Голенищевым, ее дополнял целый ряд слепков.&nbsp; В Ассирийском зале в слепках были представлены лучшие памятники искусства Месопотамии. Особое внимание И.В. Цветаев уделял искусству Древней Греции и Древнего Рима - ему было посвящено 12 залов из 20, существовавших к 1912 году.</p><p>Сегодня экспозиция искусства Древнего мира занимает все левое крыло первого этажа Музея. Египетский (№ 1) и Ассирийский (№ 2, ныне &ndash; Искусство Древнего Ближнего Востока) залы, обновленные в 2012 году к 100-летнему юбилею Музея, остались на тех пространствах, которые им отводились изначально. Еще один зал (№ 6) знакомит с искусством Древнего Египта Греко-римского периода, включая знаменитые фаюмские портреты; здесь же экспонируется небольшая часть коллекции коптских тканей.</p><p>Античному искусству посвящено 8 залов на первом и втором этажах Главного здания. Это исторические залы слепков, такие как Греческий дворик или Римский зал, а также экспозиция подлинников, поступивших в Музей в разное время. Специальный зал (№ 3) отведен памятникам из коллекции Генриха Шлимана &ndash; так называемому &laquo;Золоту Трои&raquo;. Хранившиеся в Музее с 1945 года, они впервые были показаны широкой публике на специальной выставке 1996 года, а с 1997 года экспонировались в одном зале с подлинными памятниками античного искусства. В декабре 2007 года была открыта новая экспозиция, включающая произведения основных художественных регионов и центров античного Средиземноморья: Кипра, Древней Греции, Этрурии, Древнего Рима (зал № 4). Тогда же появился зал, экспозиция которого впервые целиком была построена на материалах, найденных экспедициями ГМИИ им. А.С. Пушкина во время археологических раскопок на юге России (зал № 5).</p>',\n",
       "  'en': '<p>Искусство Древнего мира было представлено в Музее с момента его открытия с исключительной полнотой. Основу экспозиции Египетского зала составляла превосходная коллекция подлинников, собранная В.С. Голенищевым, ее дополнял целый ряд слепков.&nbsp; В Ассирийском зале в слепках были представлены лучшие памятники искусства Месопотамии. Особое внимание И.В. Цветаев уделял искусству Древней Греции и Древнего Рима - ему было посвящено 12 залов из 20, существовавших к 1912 году.</p><p>Сегодня экспозиция искусства Древнего мира занимает все левое крыло первого этажа Музея. Египетский (№ 1) и Ассирийский (№ 2, ныне &ndash; Искусство Древнего Ближнего Востока) залы, обновленные в 2012 году к 100-летнему юбилею Музея, остались на тех пространствах, которые им отводились изначально. Еще один зал (№ 6) знакомит с искусством Древнего Египта Греко-римского периода, включая знаменитые фаюмские портреты; здесь же экспонируется небольшая часть коллекции коптских тканей.</p><p>Античному искусству посвящено 8 залов на первом и втором этажах Главного здания. Это исторические залы слепков, такие как Греческий дворик или Римский зал, а также экспозиция подлинников, поступивших в Музей в разное время. Специальный зал (№ 3) отведен памятникам из коллекции Генриха Шлимана &ndash; так называемому &laquo;Золоту Трои&raquo;. Хранившиеся в Музее с 1945 года, они впервые были показаны широкой публике на специальной выставке 1996 года, а с 1997 года экспонировались в одном зале с подлинными памятниками античного искусства. В декабре 2007 года была открыта новая экспозиция, включающая произведения основных художественных регионов и центров античного Средиземноморья: Кипра, Древней Греции, Этрурии, Древнего Рима (зал № 4). Тогда же появился зал, экспозиция которого впервые целиком была построена на материалах, найденных экспедициями ГМИИ им. А.С. Пушкина во время археологических раскопок на юге России (зал № 5).</p>'},\n",
       " 'addtext': {'ru': '', 'en': ''},\n",
       " 'textmore': {'ru': '', 'en': ''},\n",
       " 'lbmore': {'ru': '', 'en': ''},\n",
       " 'lbhide': {'ru': '', 'en': ''},\n",
       " 'searcha': {'ru': '', 'en': ''},\n",
       " 'seakeys': {'ru': 'Археология', 'en': 'Archaeology'}}"
      ]
     },
     "execution_count": 50,
     "metadata": {},
     "output_type": "execute_result"
    }
   ],
   "source": [
    "collects[\"177\"]"
   ]
  },
  {
   "cell_type": "code",
   "execution_count": null,
   "metadata": {},
   "outputs": [],
   "source": []
  }
 ],
 "metadata": {
  "kernelspec": {
   "display_name": "Python 3",
   "language": "python",
   "name": "python3"
  },
  "language_info": {
   "codemirror_mode": {
    "name": "ipython",
    "version": 3
   },
   "file_extension": ".py",
   "mimetype": "text/x-python",
   "name": "python",
   "nbconvert_exporter": "python",
   "pygments_lexer": "ipython3",
   "version": "3.7.1"
  }
 },
 "nbformat": 4,
 "nbformat_minor": 2
}
