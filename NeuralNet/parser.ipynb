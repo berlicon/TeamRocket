{
 "cells": [
  {
   "cell_type": "code",
   "execution_count": 1,
   "metadata": {},
   "outputs": [],
   "source": [
    "import json\n",
    "import pandas as pd"
   ]
  },
  {
   "cell_type": "markdown",
   "metadata": {},
   "source": [
    "## Конвертация списка литературы"
   ]
  },
  {
   "cell_type": "code",
   "execution_count": 2,
   "metadata": {},
   "outputs": [],
   "source": [
    "df  = pd.read_excel(\"data/Список_изданий_в фрагменте.xlsx\")\n",
    "cols = list(df.columns)\n",
    "df = df.drop([cols[0], cols[4], cols[5], cols[6]], axis=1)\n",
    "df = df.rename(columns={cols[1]: \"long_name\", cols[2]: \"short_name\", cols[3] : \"author\", cols[-1] : \"organization\"})"
   ]
  },
  {
   "cell_type": "code",
   "execution_count": 3,
   "metadata": {},
   "outputs": [
    {
     "data": {
      "text/html": [
       "<div>\n",
       "<style scoped>\n",
       "    .dataframe tbody tr th:only-of-type {\n",
       "        vertical-align: middle;\n",
       "    }\n",
       "\n",
       "    .dataframe tbody tr th {\n",
       "        vertical-align: top;\n",
       "    }\n",
       "\n",
       "    .dataframe thead th {\n",
       "        text-align: right;\n",
       "    }\n",
       "</style>\n",
       "<table border=\"1\" class=\"dataframe\">\n",
       "  <thead>\n",
       "    <tr style=\"text-align: right;\">\n",
       "      <th></th>\n",
       "      <th>long_name</th>\n",
       "      <th>short_name</th>\n",
       "      <th>author</th>\n",
       "      <th>organization</th>\n",
       "    </tr>\n",
       "  </thead>\n",
       "  <tbody>\n",
       "    <tr>\n",
       "      <th>0</th>\n",
       "      <td>Жерихина, Елена Игоревна.   Этикет петербургск...</td>\n",
       "      <td>Этикет петербургской прогулки</td>\n",
       "      <td>Жерихина Е.И.</td>\n",
       "      <td>NaN</td>\n",
       "    </tr>\n",
       "    <tr>\n",
       "      <th>1</th>\n",
       "      <td>\"Щукин. Биография коллекции\". выставка (2019; ...</td>\n",
       "      <td>Щукин. Биография коллекции</td>\n",
       "      <td>NaN</td>\n",
       "      <td>ГМИИ им. А.С. Пушкина (Москва): 19 июня - 15 с...</td>\n",
       "    </tr>\n",
       "    <tr>\n",
       "      <th>2</th>\n",
       "      <td>Государственный музей изобразительных искусств...</td>\n",
       "      <td>Щукин. Биография коллекции</td>\n",
       "      <td>NaN</td>\n",
       "      <td>Изд. подготовлено к выставке \"Щукин. Биография...</td>\n",
       "    </tr>\n",
       "    <tr>\n",
       "      <th>3</th>\n",
       "      <td>Жерихина, Елена Игоревна.   Петербурженка / Е....</td>\n",
       "      <td>Петербурженка</td>\n",
       "      <td>Жерихина Е.И.</td>\n",
       "      <td>NaN</td>\n",
       "    </tr>\n",
       "    <tr>\n",
       "      <th>4</th>\n",
       "      <td>Барнс, Джулиан.   Открой глаза / Д. Барнс ; пе...</td>\n",
       "      <td>Открой глаза</td>\n",
       "      <td>Барнс Д.</td>\n",
       "      <td>NaN</td>\n",
       "    </tr>\n",
       "  </tbody>\n",
       "</table>\n",
       "</div>"
      ],
      "text/plain": [
       "                                           long_name  \\\n",
       "0  Жерихина, Елена Игоревна.   Этикет петербургск...   \n",
       "1  \"Щукин. Биография коллекции\". выставка (2019; ...   \n",
       "2  Государственный музей изобразительных искусств...   \n",
       "3  Жерихина, Елена Игоревна.   Петербурженка / Е....   \n",
       "4  Барнс, Джулиан.   Открой глаза / Д. Барнс ; пе...   \n",
       "\n",
       "                      short_name         author  \\\n",
       "0  Этикет петербургской прогулки  Жерихина Е.И.   \n",
       "1     Щукин. Биография коллекции            NaN   \n",
       "2     Щукин. Биография коллекции            NaN   \n",
       "3                  Петербурженка  Жерихина Е.И.   \n",
       "4                   Открой глаза       Барнс Д.   \n",
       "\n",
       "                                        organization  \n",
       "0                                                NaN  \n",
       "1  ГМИИ им. А.С. Пушкина (Москва): 19 июня - 15 с...  \n",
       "2  Изд. подготовлено к выставке \"Щукин. Биография...  \n",
       "3                                                NaN  \n",
       "4                                                NaN  "
      ]
     },
     "execution_count": 3,
     "metadata": {},
     "output_type": "execute_result"
    }
   ],
   "source": [
    "df.head()"
   ]
  },
  {
   "cell_type": "code",
   "execution_count": null,
   "metadata": {},
   "outputs": [],
   "source": [
    "df.to_csv(\"data/books.csv\", sep=\";\", index=False)"
   ]
  },
  {
   "cell_type": "markdown",
   "metadata": {},
   "source": [
    "# JSON\n",
    "------------"
   ]
  },
  {
   "cell_type": "code",
   "execution_count": 4,
   "metadata": {},
   "outputs": [],
   "source": [
    "root_link = \"https://pushkinmuseum.art/\""
   ]
  },
  {
   "cell_type": "markdown",
   "metadata": {},
   "source": [
    "## buildings"
   ]
  },
  {
   "cell_type": "code",
   "execution_count": 5,
   "metadata": {},
   "outputs": [],
   "source": [
    "with open(\"data/buildings.json\", \"r\", encoding=\"utf-8\") as building_file:\n",
    "    buildings = json.load(building_file)"
   ]
  },
  {
   "cell_type": "code",
   "execution_count": 17,
   "metadata": {},
   "outputs": [
    {
     "data": {
      "text/html": [
       "<div>\n",
       "<style scoped>\n",
       "    .dataframe tbody tr th:only-of-type {\n",
       "        vertical-align: middle;\n",
       "    }\n",
       "\n",
       "    .dataframe tbody tr th {\n",
       "        vertical-align: top;\n",
       "    }\n",
       "\n",
       "    .dataframe thead th {\n",
       "        text-align: right;\n",
       "    }\n",
       "</style>\n",
       "<table border=\"1\" class=\"dataframe\">\n",
       "  <thead>\n",
       "    <tr style=\"text-align: right;\">\n",
       "      <th></th>\n",
       "      <th>adress</th>\n",
       "      <th>appl_number</th>\n",
       "      <th>appl_number_tablet</th>\n",
       "      <th>audiog</th>\n",
       "      <th>brief</th>\n",
       "      <th>closed</th>\n",
       "      <th>excursions</th>\n",
       "      <th>exposition</th>\n",
       "      <th>floors</th>\n",
       "      <th>img</th>\n",
       "      <th>...</th>\n",
       "      <th>schedule</th>\n",
       "      <th>seakeys</th>\n",
       "      <th>searcha</th>\n",
       "      <th>tel</th>\n",
       "      <th>text</th>\n",
       "      <th>textmore</th>\n",
       "      <th>ticket</th>\n",
       "      <th>timeline</th>\n",
       "      <th>virtual_tour</th>\n",
       "      <th>yamapcoords</th>\n",
       "    </tr>\n",
       "  </thead>\n",
       "  <tbody>\n",
       "    <tr>\n",
       "      <th>116</th>\n",
       "      <td>{'ru': '&lt;p&gt;Москва, ул. Волхонка, 12&lt;/p&gt;&lt;p&gt;Прое...</td>\n",
       "      <td>1</td>\n",
       "      <td>1</td>\n",
       "      <td>{'ru': '&lt;p&gt;Главное здание&lt;br /&gt;(&lt;a href=\"https...</td>\n",
       "      <td>{'ru': 'ул. Волхонка, 12&lt;br&gt;&lt;br&gt;Живопись стары...</td>\n",
       "      <td>0</td>\n",
       "      <td>{'ru': '&lt;p&gt;&lt;a title=\"Подробнее про экскурсионн...</td>\n",
       "      <td>{'745': {'path': 'museum/buildings/main/exposi...</td>\n",
       "      <td>{'126': {'path': 'museum/buildings/main/floor1...</td>\n",
       "      <td>{'1': '/museum/buildings/main/116_img_mob1.jpg...</td>\n",
       "      <td>...</td>\n",
       "      <td>{'regulars': {'sun': {'timebegin': '11:00', 't...</td>\n",
       "      <td>{'ru': 'Главное здание ГМИИ им. А.С. Пушкина',...</td>\n",
       "      <td>{'ru': 'Основное здание музея по адресу ул. Во...</td>\n",
       "      <td>{'ru': '&lt;p&gt;Автоответчик:&lt;br /&gt;+7 (495) 609-95-...</td>\n",
       "      <td>{'ru': '&lt;p&gt;&lt;strong&gt;Изменения в режиме работы з...</td>\n",
       "      <td>{'ru': '&lt;p&gt;Музей создавался на основе Кабинета...</td>\n",
       "      <td></td>\n",
       "      <td>{'ru': '&lt;p&gt;&lt;strong&gt;ВТ, СР, СБ, ВС&lt;/strong&gt;: с ...</td>\n",
       "      <td>{'preview': {'pc': '/museum/buildings/main/blo...</td>\n",
       "      <td>17,55.747272,37.605283</td>\n",
       "    </tr>\n",
       "    <tr>\n",
       "      <th>117</th>\n",
       "      <td>{'ru': '&lt;p&gt;Москва, ул. Волхонка, 14&lt;/p&gt;&lt;p&gt;Прое...</td>\n",
       "      <td>2</td>\n",
       "      <td>2</td>\n",
       "      <td>{'ru': '&lt;p&gt;Галерея искусства стран Европы и Ам...</td>\n",
       "      <td>{'ru': 'ул. Волхонка, 14&lt;br&gt;&lt;br&gt;Живопись франц...</td>\n",
       "      <td>0</td>\n",
       "      <td>{'ru': '&lt;p&gt;&lt;a title=\"Подробнее про экскурсионн...</td>\n",
       "      <td>NaN</td>\n",
       "      <td>{'131': {'path': 'museum/buildings/gallery/flo...</td>\n",
       "      <td>{'1': '/museum/buildings/gallery/117_img_mob1....</td>\n",
       "      <td>...</td>\n",
       "      <td>{'regulars': {'sun': {'timebegin': '11:00', 't...</td>\n",
       "      <td>{'ru': 'Галерея искусства стран Европы и Амери...</td>\n",
       "      <td>{'ru': 'Галерея искусства стран Европы и Амери...</td>\n",
       "      <td>{'ru': '&lt;p&gt;Автоответчик: +7 (495) 609-95-20&lt;/p...</td>\n",
       "      <td>{'ru': '&lt;p&gt;Галерея искусства стран Европы и Ам...</td>\n",
       "      <td>{'ru': '&lt;p&gt;До наших дней в своем первоначально...</td>\n",
       "      <td></td>\n",
       "      <td>{'ru': '&lt;p&gt;&lt;strong&gt;ВТ, СР, СБ, ВС&lt;/strong&gt;: с ...</td>\n",
       "      <td>{'preview': {'pc': '/museum/buildings/gallery/...</td>\n",
       "      <td>17,55.746668,37.605123</td>\n",
       "    </tr>\n",
       "    <tr>\n",
       "      <th>118</th>\n",
       "      <td>{'ru': '&lt;p&gt;Москва, ул. Волхонка, 10&lt;/p&gt;&lt;p&gt;Прое...</td>\n",
       "      <td>3</td>\n",
       "      <td>3</td>\n",
       "      <td>{'ru': '', 'en': ''}</td>\n",
       "      <td>{'ru': 'ул. Волхонка, 10&lt;br&gt;&lt;br&gt;Основная экспо...</td>\n",
       "      <td>0</td>\n",
       "      <td>{'ru': '&lt;p&gt;&lt;a title=\"Подробнее про экскурсионн...</td>\n",
       "      <td>NaN</td>\n",
       "      <td></td>\n",
       "      <td>{'1': '/museum/buildings/olk/118_img_mob1.jpg'...</td>\n",
       "      <td>...</td>\n",
       "      <td></td>\n",
       "      <td>{'ru': '', 'en': 'Department of Private Collec...</td>\n",
       "      <td>{'ru': '', 'en': ''}</td>\n",
       "      <td>{'ru': '&lt;p&gt;Справки по телефону: +7 (495) 697-1...</td>\n",
       "      <td>{'ru': '&lt;p&gt;Отдел личных коллекций &amp;ndash; один...</td>\n",
       "      <td>{'ru': '&lt;p&gt;Открытие здания отдела состоялось 2...</td>\n",
       "      <td></td>\n",
       "      <td>{'ru': '', 'en': ''}</td>\n",
       "      <td>NaN</td>\n",
       "      <td>17,55.747552,37.607290</td>\n",
       "    </tr>\n",
       "    <tr>\n",
       "      <th>119</th>\n",
       "      <td>{'ru': '&lt;p&gt;Москва, Колымажный пер., д. 6/2,3&lt;b...</td>\n",
       "      <td>6</td>\n",
       "      <td>5</td>\n",
       "      <td>{'ru': '&lt;p&gt;Аудиогиды Клуба юных искусствоведов...</td>\n",
       "      <td>{'ru': 'Колымажный пер., 6/2, 3 (вход с Малого...</td>\n",
       "      <td>0</td>\n",
       "      <td>{'ru': '', 'en': ''}</td>\n",
       "      <td>NaN</td>\n",
       "      <td></td>\n",
       "      <td>{'1': '/museum/buildings/museyon/119_img_mob1....</td>\n",
       "      <td>...</td>\n",
       "      <td>{'regulars': {'sun': {'timebegin': '11:00', 't...</td>\n",
       "      <td>{'ru': 'Центр эстетического воспитания «Мусейо...</td>\n",
       "      <td>{'ru': 'Центр эстетического воспитания «Мусейо...</td>\n",
       "      <td>{'ru': '&lt;p&gt;Автоответчик: +7 (495) 609-95-20&lt;/p...</td>\n",
       "      <td>{'ru': '&lt;p&gt;Центр эстетического воспитания дете...</td>\n",
       "      <td>{'ru': '&lt;p&gt;В древние времена это был квартал б...</td>\n",
       "      <td></td>\n",
       "      <td>{'ru': '&lt;p&gt;&lt;strong&gt;ВТ, СР, ЧТ, ПТ, СБ, ВС&lt;/str...</td>\n",
       "      <td>NaN</td>\n",
       "      <td>17,55.748248,37.606088</td>\n",
       "    </tr>\n",
       "    <tr>\n",
       "      <th>120</th>\n",
       "      <td>{'ru': '&lt;p&gt;Москва, ул. Чаянова, 15&lt;/p&gt;&lt;p&gt;Проез...</td>\n",
       "      <td>4</td>\n",
       "      <td>10</td>\n",
       "      <td>{'ru': '', 'en': ''}</td>\n",
       "      <td>{'ru': 'ул. Чаянова, 15&lt;br&gt;&lt;br&gt;Учебный художес...</td>\n",
       "      <td>0</td>\n",
       "      <td>{'ru': '&lt;p&gt;700 рублей - экскурсионная путевка ...</td>\n",
       "      <td>NaN</td>\n",
       "      <td>{'136': {'path': 'museum/buildings/cvetaev/gro...</td>\n",
       "      <td>{'1': '/museum/buildings/cvetaev/120_img_mob1....</td>\n",
       "      <td>...</td>\n",
       "      <td>{'regulars': {'sun': {}, 'mon': {}, 'tue': {'t...</td>\n",
       "      <td>{'ru': 'Учебный художественный музей им. И.В. ...</td>\n",
       "      <td>{'ru': 'Учебный художественный музей им. И.В. ...</td>\n",
       "      <td>{'ru': '&lt;p&gt;Справки по телефону:&lt;br /&gt;+7 (499) ...</td>\n",
       "      <td>{'ru': '&lt;p&gt;&lt;em&gt;О новостях Учебного музея и о в...</td>\n",
       "      <td>{'ru': '', 'en': ''}</td>\n",
       "      <td></td>\n",
       "      <td>{'ru': '&lt;p&gt;&lt;strong&gt;ВТ, СР, ЧТ, ПТ, СБ&lt;/strong&gt;...</td>\n",
       "      <td>NaN</td>\n",
       "      <td>17,55.776767,37.595716</td>\n",
       "    </tr>\n",
       "  </tbody>\n",
       "</table>\n",
       "<p>5 rows × 30 columns</p>\n",
       "</div>"
      ],
      "text/plain": [
       "                                                adress appl_number  \\\n",
       "116  {'ru': '<p>Москва, ул. Волхонка, 12</p><p>Прое...           1   \n",
       "117  {'ru': '<p>Москва, ул. Волхонка, 14</p><p>Прое...           2   \n",
       "118  {'ru': '<p>Москва, ул. Волхонка, 10</p><p>Прое...           3   \n",
       "119  {'ru': '<p>Москва, Колымажный пер., д. 6/2,3<b...           6   \n",
       "120  {'ru': '<p>Москва, ул. Чаянова, 15</p><p>Проез...           4   \n",
       "\n",
       "    appl_number_tablet                                             audiog  \\\n",
       "116                  1  {'ru': '<p>Главное здание<br />(<a href=\"https...   \n",
       "117                  2  {'ru': '<p>Галерея искусства стран Европы и Ам...   \n",
       "118                  3                               {'ru': '', 'en': ''}   \n",
       "119                  5  {'ru': '<p>Аудиогиды Клуба юных искусствоведов...   \n",
       "120                 10                               {'ru': '', 'en': ''}   \n",
       "\n",
       "                                                 brief closed  \\\n",
       "116  {'ru': 'ул. Волхонка, 12<br><br>Живопись стары...      0   \n",
       "117  {'ru': 'ул. Волхонка, 14<br><br>Живопись франц...      0   \n",
       "118  {'ru': 'ул. Волхонка, 10<br><br>Основная экспо...      0   \n",
       "119  {'ru': 'Колымажный пер., 6/2, 3 (вход с Малого...      0   \n",
       "120  {'ru': 'ул. Чаянова, 15<br><br>Учебный художес...      0   \n",
       "\n",
       "                                            excursions  \\\n",
       "116  {'ru': '<p><a title=\"Подробнее про экскурсионн...   \n",
       "117  {'ru': '<p><a title=\"Подробнее про экскурсионн...   \n",
       "118  {'ru': '<p><a title=\"Подробнее про экскурсионн...   \n",
       "119                               {'ru': '', 'en': ''}   \n",
       "120  {'ru': '<p>700 рублей - экскурсионная путевка ...   \n",
       "\n",
       "                                            exposition  \\\n",
       "116  {'745': {'path': 'museum/buildings/main/exposi...   \n",
       "117                                                NaN   \n",
       "118                                                NaN   \n",
       "119                                                NaN   \n",
       "120                                                NaN   \n",
       "\n",
       "                                                floors  \\\n",
       "116  {'126': {'path': 'museum/buildings/main/floor1...   \n",
       "117  {'131': {'path': 'museum/buildings/gallery/flo...   \n",
       "118                                                      \n",
       "119                                                      \n",
       "120  {'136': {'path': 'museum/buildings/cvetaev/gro...   \n",
       "\n",
       "                                                   img  \\\n",
       "116  {'1': '/museum/buildings/main/116_img_mob1.jpg...   \n",
       "117  {'1': '/museum/buildings/gallery/117_img_mob1....   \n",
       "118  {'1': '/museum/buildings/olk/118_img_mob1.jpg'...   \n",
       "119  {'1': '/museum/buildings/museyon/119_img_mob1....   \n",
       "120  {'1': '/museum/buildings/cvetaev/120_img_mob1....   \n",
       "\n",
       "              ...            \\\n",
       "116           ...             \n",
       "117           ...             \n",
       "118           ...             \n",
       "119           ...             \n",
       "120           ...             \n",
       "\n",
       "                                              schedule  \\\n",
       "116  {'regulars': {'sun': {'timebegin': '11:00', 't...   \n",
       "117  {'regulars': {'sun': {'timebegin': '11:00', 't...   \n",
       "118                                                      \n",
       "119  {'regulars': {'sun': {'timebegin': '11:00', 't...   \n",
       "120  {'regulars': {'sun': {}, 'mon': {}, 'tue': {'t...   \n",
       "\n",
       "                                               seakeys  \\\n",
       "116  {'ru': 'Главное здание ГМИИ им. А.С. Пушкина',...   \n",
       "117  {'ru': 'Галерея искусства стран Европы и Амери...   \n",
       "118  {'ru': '', 'en': 'Department of Private Collec...   \n",
       "119  {'ru': 'Центр эстетического воспитания «Мусейо...   \n",
       "120  {'ru': 'Учебный художественный музей им. И.В. ...   \n",
       "\n",
       "                                               searcha  \\\n",
       "116  {'ru': 'Основное здание музея по адресу ул. Во...   \n",
       "117  {'ru': 'Галерея искусства стран Европы и Амери...   \n",
       "118                               {'ru': '', 'en': ''}   \n",
       "119  {'ru': 'Центр эстетического воспитания «Мусейо...   \n",
       "120  {'ru': 'Учебный художественный музей им. И.В. ...   \n",
       "\n",
       "                                                   tel  \\\n",
       "116  {'ru': '<p>Автоответчик:<br />+7 (495) 609-95-...   \n",
       "117  {'ru': '<p>Автоответчик: +7 (495) 609-95-20</p...   \n",
       "118  {'ru': '<p>Справки по телефону: +7 (495) 697-1...   \n",
       "119  {'ru': '<p>Автоответчик: +7 (495) 609-95-20</p...   \n",
       "120  {'ru': '<p>Справки по телефону:<br />+7 (499) ...   \n",
       "\n",
       "                                                  text  \\\n",
       "116  {'ru': '<p><strong>Изменения в режиме работы з...   \n",
       "117  {'ru': '<p>Галерея искусства стран Европы и Ам...   \n",
       "118  {'ru': '<p>Отдел личных коллекций &ndash; один...   \n",
       "119  {'ru': '<p>Центр эстетического воспитания дете...   \n",
       "120  {'ru': '<p><em>О новостях Учебного музея и о в...   \n",
       "\n",
       "                                              textmore ticket  \\\n",
       "116  {'ru': '<p>Музей создавался на основе Кабинета...          \n",
       "117  {'ru': '<p>До наших дней в своем первоначально...          \n",
       "118  {'ru': '<p>Открытие здания отдела состоялось 2...          \n",
       "119  {'ru': '<p>В древние времена это был квартал б...          \n",
       "120                               {'ru': '', 'en': ''}          \n",
       "\n",
       "                                              timeline  \\\n",
       "116  {'ru': '<p><strong>ВТ, СР, СБ, ВС</strong>: с ...   \n",
       "117  {'ru': '<p><strong>ВТ, СР, СБ, ВС</strong>: с ...   \n",
       "118                               {'ru': '', 'en': ''}   \n",
       "119  {'ru': '<p><strong>ВТ, СР, ЧТ, ПТ, СБ, ВС</str...   \n",
       "120  {'ru': '<p><strong>ВТ, СР, ЧТ, ПТ, СБ</strong>...   \n",
       "\n",
       "                                          virtual_tour             yamapcoords  \n",
       "116  {'preview': {'pc': '/museum/buildings/main/blo...  17,55.747272,37.605283  \n",
       "117  {'preview': {'pc': '/museum/buildings/gallery/...  17,55.746668,37.605123  \n",
       "118                                                NaN  17,55.747552,37.607290  \n",
       "119                                                NaN  17,55.748248,37.606088  \n",
       "120                                                NaN  17,55.776767,37.595716  \n",
       "\n",
       "[5 rows x 30 columns]"
      ]
     },
     "execution_count": 17,
     "metadata": {},
     "output_type": "execute_result"
    }
   ],
   "source": [
    "df_buildings = pd.read_json(\"data/buildings.json\", encoding=\"utf-8\", orient=\"index\")\n",
    "df_buildings.head()"
   ]
  },
  {
   "cell_type": "code",
   "execution_count": 23,
   "metadata": {},
   "outputs": [
    {
     "data": {
      "text/plain": [
       "['adress',\n",
       " 'appl_number',\n",
       " 'appl_number_tablet',\n",
       " 'audiog',\n",
       " 'brief',\n",
       " 'closed',\n",
       " 'excursions',\n",
       " 'exposition',\n",
       " 'floors',\n",
       " 'img',\n",
       " 'img_header',\n",
       " 'invalid',\n",
       " 'm_sort',\n",
       " 'menu',\n",
       " 'name',\n",
       " 'panorama',\n",
       " 'path',\n",
       " 'picture',\n",
       " 'rate',\n",
       " 'rules',\n",
       " 'schedule',\n",
       " 'seakeys',\n",
       " 'searcha',\n",
       " 'tel',\n",
       " 'text',\n",
       " 'textmore',\n",
       " 'ticket',\n",
       " 'timeline',\n",
       " 'virtual_tour',\n",
       " 'yamapcoords']"
      ]
     },
     "execution_count": 23,
     "metadata": {},
     "output_type": "execute_result"
    }
   ],
   "source": [
    "list(df_buildings.columns)"
   ]
  },
  {
   "cell_type": "code",
   "execution_count": 22,
   "metadata": {},
   "outputs": [
    {
     "data": {
      "text/plain": [
       "['adress',\n",
       " 'appl_number',\n",
       " 'appl_number_tablet',\n",
       " 'audiog',\n",
       " 'brief',\n",
       " 'closed',\n",
       " 'excursions',\n",
       " 'exposition',\n",
       " 'floors',\n",
       " 'img',\n",
       " 'img_header',\n",
       " 'invalid',\n",
       " 'm_sort',\n",
       " 'menu',\n",
       " 'name',\n",
       " 'panorama',\n",
       " 'path',\n",
       " 'picture',\n",
       " 'rate',\n",
       " 'rules',\n",
       " 'schedule',\n",
       " 'seakeys',\n",
       " 'searcha',\n",
       " 'tel',\n",
       " 'text',\n",
       " 'textmore',\n",
       " 'ticket',\n",
       " 'timeline',\n",
       " 'virtual_tour',\n",
       " 'yamapcoords']"
      ]
     },
     "execution_count": 22,
     "metadata": {},
     "output_type": "execute_result"
    }
   ],
   "source": [
    "sorted(list(buildings[\"116\"].keys()))"
   ]
  },
  {
   "cell_type": "code",
   "execution_count": 26,
   "metadata": {},
   "outputs": [
    {
     "data": {
      "text/plain": [
       "[{'ru': 'Главное здание',\n",
       "  'en': 'Main Building of the Pushkin State Museum of Fine Arts'},\n",
       " {'ru': 'Галерея искусства стран Европы и Америки XIX–XX веков',\n",
       "  'en': 'Gallery of 19th and 20th century European and American Art'},\n",
       " {'ru': 'Отдел личных коллекций', 'en': 'Department of Private Collections'},\n",
       " {'ru': 'Центр эстетического воспитания «Мусейон»',\n",
       "  'en': 'Museion Educational Center '},\n",
       " {'ru': 'Учебный художественный музей им. И.В. Цветаева (РГГУ)',\n",
       "  'en': 'Ivan Tsvetaev Educational Art Museum'},\n",
       " {'ru': 'Мемориальная квартира Святослава Рихтера',\n",
       "  'en': 'Sviatoslav Richter Memorial Apartment'},\n",
       " {'ru': 'Усадьба князей Голицыных', 'en': 'The Golitsyn Family Manor'},\n",
       " {'ru': 'Усадьба князей Вяземских-Долгоруковых',\n",
       "  'en': 'The Vyazemsky– Dolgorukov Manor'},\n",
       " {'ru': 'Дом Текста', 'en': 'The House of Text'},\n",
       " {'ru': 'Депозитарно-реставрационный и выставочный комплекс',\n",
       "  'en': 'The Repository'},\n",
       " {'ru': 'Мастерская Эдуарда Штейнберга в Тарусе',\n",
       "  'en': \"Eduard Steinberg's Workshop\"},\n",
       " {'ru': 'Усадьба Лопухиных', 'en': 'The Lopukhins Manor'},\n",
       " {'ru': 'Балтийский филиал', 'en': 'Балтийский филиал'},\n",
       " {'ru': '', 'en': ''},\n",
       " {'ru': '', 'en': ''},\n",
       " {'ru': '', 'en': ''},\n",
       " {'ru': '', 'en': ''},\n",
       " {'ru': '', 'en': ''},\n",
       " {'ru': 'Сибирский филиал', 'en': 'Сибирский филиал'},\n",
       " {'ru': 'Государственный центр современного искусства на Зоологической',\n",
       "  'en': 'State Center for Contemporary Art on Zoologicheskaya street'}]"
      ]
     },
     "execution_count": 26,
     "metadata": {},
     "output_type": "execute_result"
    }
   ],
   "source": [
    "list(df_buildings[\"name\"])"
   ]
  },
  {
   "cell_type": "code",
   "execution_count": null,
   "metadata": {},
   "outputs": [],
   "source": [
    "for bldng in buildings.keys():\n",
    "    b_name = buildings[bldng][\"name\"][\"ru\"]\n",
    "    b_link = root_link + buildings[bldng][\"path\"]\n",
    "    if buildings[bldng][\"closed\"] == '0':\n",
    "        print(len(list(buildings[bldng].keys())))\n",
    "#         schedule = buildings[bldng][\"schedule\"]\n",
    "#         if \"regulars\" in list(schedule.keys()):\n",
    "#             print(schedule[\"regulars\"])"
   ]
  },
  {
   "cell_type": "code",
   "execution_count": null,
   "metadata": {},
   "outputs": [],
   "source": [
    "for bl in buildings.keys():\n",
    "    print('-' * 10)\n",
    "    print(buildings[bl][\"name\"][\"ru\"])\n",
    "    print('-' * 10)\n",
    "    bldng =  buildings[bl]\n",
    "    type(bldng[\"floors\"])\n",
    "    for fl in bldng[\"floors\"].keys():\n",
    "        flour = bldng[\"floors\"][fl]\n",
    "        print(flour[\"name\"][\"ru\"], \" : \")\n",
    "        for hl in flour[\"halls\"].keys():\n",
    "            hall = flour[\"halls\"][hl]\n",
    "            print('\\t', hall[\"name\"][\"ru\"])\n",
    "    print()"
   ]
  },
  {
   "cell_type": "markdown",
   "metadata": {},
   "source": [
    "## objects"
   ]
  },
  {
   "cell_type": "code",
   "execution_count": null,
   "metadata": {},
   "outputs": [],
   "source": [
    "with open(\"data/objects.json\", \"r\", encoding=\"utf-8\") as object_file:\n",
    "    objects = json.load(object_file)"
   ]
  },
  {
   "cell_type": "code",
   "execution_count": null,
   "metadata": {},
   "outputs": [],
   "source": [
    "objects[\"3666\"].keys()"
   ]
  },
  {
   "cell_type": "code",
   "execution_count": null,
   "metadata": {},
   "outputs": [],
   "source": [
    "objects[\"3666\"][\"path\"]"
   ]
  },
  {
   "cell_type": "code",
   "execution_count": null,
   "metadata": {},
   "outputs": [],
   "source": [
    "objects[\"3666\"][\"m_parent_id\"]"
   ]
  },
  {
   "cell_type": "code",
   "execution_count": null,
   "metadata": {},
   "outputs": [],
   "source": [
    "objects[\"3666\"][\"type\"][\"ru\"] "
   ]
  },
  {
   "cell_type": "code",
   "execution_count": null,
   "metadata": {},
   "outputs": [],
   "source": [
    "objects[\"3666\"][\"period\"][\"text\"][\"ru\"]"
   ]
  },
  {
   "cell_type": "markdown",
   "metadata": {},
   "source": [
    "## events"
   ]
  },
  {
   "cell_type": "code",
   "execution_count": null,
   "metadata": {},
   "outputs": [],
   "source": [
    "with open(\"data/events.json\", \"r\", encoding=\"utf-8\") as event_file:\n",
    "    events = json.load(event_file)"
   ]
  },
  {
   "cell_type": "code",
   "execution_count": null,
   "metadata": {},
   "outputs": [],
   "source": [
    "events.keys()"
   ]
  },
  {
   "cell_type": "code",
   "execution_count": null,
   "metadata": {},
   "outputs": [],
   "source": [
    "events[\"12777\"]"
   ]
  },
  {
   "cell_type": "code",
   "execution_count": null,
   "metadata": {},
   "outputs": [],
   "source": [
    "events[\"12777\"][\"name\"][\"ru\"]"
   ]
  },
  {
   "cell_type": "markdown",
   "metadata": {},
   "source": [
    "## collects"
   ]
  },
  {
   "cell_type": "code",
   "execution_count": null,
   "metadata": {},
   "outputs": [],
   "source": [
    "with open(\"data/collects.json\", \"r\", encoding=\"utf-8\") as collects_file:\n",
    "    collects = json.load(collects_file)"
   ]
  },
  {
   "cell_type": "code",
   "execution_count": null,
   "metadata": {},
   "outputs": [],
   "source": [
    "collects.keys()"
   ]
  },
  {
   "cell_type": "code",
   "execution_count": null,
   "metadata": {},
   "outputs": [],
   "source": [
    "collects[\"177\"]"
   ]
  },
  {
   "cell_type": "code",
   "execution_count": 27,
   "metadata": {},
   "outputs": [],
   "source": [
    "from datetime import datetime\n",
    "from typing import List, Dict\n",
    "\n",
    "def parse_date(date):\n",
    "    if date.startswith('0000-00-00'):\n",
    "        return None\n",
    "    else:\n",
    "        return datetime.strptime(date, \"%Y-%m-%d %H:%M:%S\").date()\n",
    "\n",
    "\n",
    "def init_events():\n",
    "    import requests\n",
    "    # events0 = json.load(open('../../data/events.json'))\n",
    "    events0 = requests.get('https://pushkinmuseum.art/json/events.json')\n",
    "    events0 = events0.json()\n",
    "\n",
    "    events = []\n",
    "    for event_key, event in events0.items():\n",
    "        date_begin = parse_date(event['dateBegin'])\n",
    "        date_end = parse_date(event['dateEnd'])\n",
    "        if date_begin is None:\n",
    "            continue\n",
    "        if date_end is None:\n",
    "            date_end = date_begin\n",
    "        events.append((date_begin, date_end, event))\n",
    "    events.sort(key=lambda event_tuple: -(event_tuple[1] - event_tuple[0]))\n",
    "    events = [(str(date_begin), str(date_end), event) for date_begin, date_end, event in events]\n",
    "    return events"
   ]
  },
  {
   "cell_type": "code",
   "execution_count": null,
   "metadata": {},
   "outputs": [],
   "source": []
  }
 ],
 "metadata": {
  "kernelspec": {
   "display_name": "Python 3",
   "language": "python",
   "name": "python3"
  },
  "language_info": {
   "codemirror_mode": {
    "name": "ipython",
    "version": 3
   },
   "file_extension": ".py",
   "mimetype": "text/x-python",
   "name": "python",
   "nbconvert_exporter": "python",
   "pygments_lexer": "ipython3",
   "version": "3.7.1"
  }
 },
 "nbformat": 4,
 "nbformat_minor": 2
}
